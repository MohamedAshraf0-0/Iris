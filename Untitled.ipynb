{
 "cells": [
  {
   "cell_type": "code",
   "execution_count": 2,
   "id": "767301e3-0903-447d-9a9c-bf93364ca6c0",
   "metadata": {},
   "outputs": [],
   "source": [
    "import tensorflow as tf\n",
    "import matplotlib.pyplot as plt\n",
    "import cv2\n",
    "import numpy as np\n",
    "import os\n",
    "from tensorflow.keras import layers, models"
   ]
  },
  {
   "cell_type": "code",
   "execution_count": 3,
   "id": "65b5fd6c-0548-4e78-909f-3df3a0855c73",
   "metadata": {},
   "outputs": [],
   "source": [
    "\n",
    "def get_items(path):\n",
    "    data = {}\n",
    "    dirs = os.listdir(path)\n",
    "    for dir_name in dirs:\n",
    "        data[dir_name] = []\n",
    "    for dir_name in dirs:\n",
    "        new_dir = os.listdir(path + f\"/{dir_name}\")\n",
    "    \n",
    "        data[dir_name] += new_dir\n",
    "    return data\n"
   ]
  },
  {
   "cell_type": "code",
   "execution_count": 4,
   "id": "13060c66-0fb0-4e70-aa4c-467bf598d445",
   "metadata": {},
   "outputs": [],
   "source": [
    "\n",
    "\n",
    "def process_image(image_path, target_shape=(100, 100)):\n",
    "    # Read the image\n",
    "    img = cv2.imread(image_path)\n",
    "\n",
    "    # Check if the image is successfully loaded\n",
    "    if img is None:\n",
    "        print(f\"Error: Unable to load image from {image_path}\")\n",
    "        return None\n",
    "\n",
    "    # Convert to grayscale\n",
    "    gray_img = cv2.cvtColor(img, cv2.COLOR_BGR2GRAY)\n",
    "\n",
    "    # Crop the border\n",
    "    border_size = 55  # Adjust the border size as needed\n",
    "    cropped_img = gray_img[border_size:-border_size, border_size:-border_size]\n",
    "\n",
    "    # Image Preprocessing\n",
    "    # Normalize\n",
    "    cropped_img = cv2.normalize(cropped_img, None, 0, 255, cv2.NORM_MINMAX)\n",
    "    # Noise Reduction (Gaussian Blur)\n",
    "    cropped_img = cv2.GaussianBlur(cropped_img, (5, 5), 0)\n",
    "    # Image Enhancement (Histogram Equalization)\n",
    "    cropped_img = cv2.equalizeHist(cropped_img)\n",
    "\n",
    "    # Additional Preprocessing Features\n",
    "    # Sobel Gradient Magnitude\n",
    "    sobel_x = cv2.Sobel(cropped_img, cv2.CV_64F, 1, 0, ksize=3)\n",
    "    sobel_y = cv2.Sobel(cropped_img, cv2.CV_64F, 0, 1, ksize=3)\n",
    "    gradient_magnitude = np.sqrt(sobel_x**2 + sobel_y**2)\n",
    "\n",
    "    # Laplacian of the Image\n",
    "    laplacian_img = cv2.Laplacian(cropped_img, cv2.CV_64F)\n",
    "\n",
    "    # Reshape the image to the target shape\n",
    "    laplacian_img = cv2.resize(laplacian_img, target_shape)\n",
    "\n",
    "    return laplacian_img"
   ]
  },
  {
   "cell_type": "code",
   "execution_count": 5,
   "id": "6ac6a38f-d257-4546-a2f7-602a7669ae51",
   "metadata": {},
   "outputs": [
    {
     "name": "stdout",
     "output_type": "stream",
     "text": [
      "{'001': ['02_L.bmp', '03_L.bmp', '04_L.bmp', '06_L.bmp', '07_L.bmp', '08_L.bmp', '09_L.bmp'], '002': ['02_L.bmp', '03_L.bmp', '04_L.bmp', '06_L.bmp', '07_L.bmp', '08_L.bmp', '09_L.bmp'], '003': ['02_L.bmp', '03_L.bmp', '04_L.bmp', '06_L.bmp', '07_L.bmp', '08_L.bmp', '09_L.bmp'], '004': ['02_L.bmp', '03_L.bmp', '04_L.bmp', '06_L.bmp', '07_L.bmp', '08_L.bmp', '09_L.bmp'], '005': ['02_L.bmp', '03_L.bmp', '04_L.bmp', '06_L.bmp', '07_L.bmp', '08_L.bmp', '09_L.bmp'], '006': ['02_L.bmp', '03_L.bmp', '04_L.bmp', '06_L.bmp', '07_L.bmp', '08_L.bmp', '09_L.bmp'], '007': ['02_L.bmp', '03_L.bmp', '04_L.bmp', '06_L.bmp', '07_L.bmp', '08_L.bmp', '09_L.bmp'], '008': ['02_L.bmp', '03_L.bmp', '04_L.bmp', '06_L.bmp', '07_L.bmp', '08_L.bmp', '09_L.bmp'], '009': ['02_L.bmp', '03_L.bmp', '04_L.bmp', '06_L.bmp', '07_L.bmp', '08_L.bmp', '09_L.bmp'], '010': ['02_L.bmp', '03_L.bmp', '04_L.bmp', '06_L.bmp', '07_L.bmp', '08_L.bmp', '09_L.bmp'], '011': ['02_L.bmp', '03_L.bmp', '04_L.bmp', '06_L.bmp', '07_L.bmp', '08_L.bmp', '09_L.bmp'], '012': ['02_L.bmp', '03_L.bmp', '04_L.bmp', '06_L.bmp', '07_L.bmp', '08_L.bmp', '09_L.bmp'], '013': ['02_L.bmp', '03_L.bmp', '04_L.bmp', '06_L.bmp', '07_L.bmp', '08_L.bmp', '09_L.bmp'], '014': ['02_L.bmp', '03_L.bmp', '04_L.bmp', '06_R.bmp', '07_R.bmp', '08_R.bmp', '09_R.bmp'], '015': ['02_L.bmp', '03_L.bmp', '04_L.bmp', '06_R.bmp', '07_R.bmp', '08_R.bmp', '09_R.bmp'], '016': ['02_L.bmp', '03_L.bmp', '04_L.bmp', '06_R.bmp', '07_R.bmp', '08_R.bmp', '09_R.bmp'], '017': ['02_L.bmp', '03_L.bmp', '04_L.bmp', '06_R.bmp', '07_R.bmp', '08_R.bmp', '09_R.bmp'], '018': ['02_L.bmp', '03_L.bmp', '04_L.bmp', '06_R.bmp', '07_R.bmp', '08_R.bmp', '09_R.bmp'], '019': ['02_L.bmp', '03_L.bmp', '04_L.bmp', '06_R.bmp', '07_R.bmp', '08_R.bmp', '09_R.bmp'], '020': ['02_L.bmp', '03_L.bmp', '04_L.bmp', '06_R.bmp', '07_R.bmp', '08_R.bmp', '09_R.bmp'], '021': ['02_L.bmp', '03_L.bmp', '04_L.bmp', '06_R.bmp', '07_R.bmp', '08_R.bmp', '09_R.bmp'], '022': ['02_L.bmp', '03_L.bmp', '04_L.bmp', '06_R.bmp', '07_R.bmp', '08_R.bmp', '09_R.bmp'], '023': ['02_L.bmp', '03_L.bmp', '04_L.bmp', '06_R.bmp', '07_R.bmp', '08_R.bmp', '09_R.bmp'], '024': ['02_L.bmp', '03_L.bmp', '04_L.bmp', '06_R.bmp', '07_R.bmp', '08_R.bmp', '09_R.bmp'], '025': ['02_L.bmp', '03_L.bmp', '04_L.bmp', '06_R.bmp', '07_R.bmp', '08_R.bmp', '09_R.bmp'], '026': ['02_L.bmp', '03_L.bmp', '04_L.bmp', '06_R.bmp', '07_R.bmp', '08_R.bmp', '09_R.bmp'], '027': ['02_L.bmp', '03_L.bmp', '04_L.bmp', '06_L.bmp', '07_R.bmp', '08_R.bmp', '09_R.bmp'], '028': ['02_L.bmp', '03_L.bmp', '04_L.bmp', '06_R.bmp', '07_R.bmp', '08_R.bmp', '09_R.bmp'], '029': ['02_L.bmp', '03_L.bmp', '04_L.bmp', '06_R.bmp', '07_R.bmp', '08_R.bmp', '09_R.bmp'], '030': ['02_L.bmp', '03_L.bmp', '04_L.bmp', '06_R.bmp', '07_R.bmp', '08_R.bmp', '09_R.bmp'], '031': ['02_L.bmp', '03_L.bmp', '04_L.bmp', '06_R.bmp', '07_R.bmp', '08_R.bmp', '09_R.bmp'], '032': ['02_L.bmp', '03_L.bmp', '04_L.bmp', '06_R.bmp', '07_R.bmp', '08_R.bmp', '09_R.bmp'], '033': ['02_L.bmp', '03_L.bmp', '04_L.bmp', '06_R.bmp', '07_R.bmp', '08_R.bmp', '09_R.bmp'], '034': ['02_L.bmp', '03_L.bmp', '04_L.bmp', '06_R.bmp', '07_R.bmp', '08_R.bmp', '09_R.bmp'], '035': ['02_L.bmp', '03_L.bmp', '04_L.bmp', '06_R.bmp', '07_R.bmp', '08_R.bmp', '09_R.bmp'], '036': ['02_L.bmp', '03_L.bmp', '04_L.bmp', '06_R.bmp', '07_R.bmp', '08_R.bmp', '09_R.bmp'], '037': ['02_L.bmp', '03_L.bmp', '04_L.bmp', '06_R.bmp', '07_R.bmp', '08_R.bmp', '09_R.bmp'], '038': ['02_L.bmp', '03_L.bmp', '04_L.bmp', '06_R.bmp', '07_R.bmp', '08_R.bmp', '09_R.bmp'], '039': ['02_L.bmp', '03_L.bmp', '04_L.bmp', '06_R.bmp', '07_R.bmp', '08_R.bmp', '09_R.bmp'], '040': ['02_L.bmp', '03_L.bmp', '04_L.bmp', '06_R.bmp', '07_R.bmp', '08_R.bmp', '09_R.bmp'], '041': ['02_L.bmp', '03_L.bmp', '04_L.bmp', '06_R.bmp', '07_R.bmp', '08_R.bmp', '09_R.bmp'], '042': ['02_L.bmp', '03_L.bmp', '04_L.bmp', '06_R.bmp', '07_R.bmp', '08_R.bmp', '09_R.bmp'], '043': ['02_L.bmp', '03_L.bmp', '04_L.bmp', '06_R.bmp', '07_R.bmp', '08_R.bmp', '09_R.bmp'], '044': ['02_L.bmp', '03_L.bmp', '04_L.bmp', '06_R.bmp', '07_R.bmp', '08_R.bmp', '09_R.bmp'], '045': ['02_L.bmp', '03_L.bmp', '04_L.bmp', '06_R.bmp', '07_R.bmp', '08_R.bmp', '09_R.bmp'], '046': ['02_L.bmp', '03_L.bmp', '04_L.bmp', '06_R.bmp', '07_R.bmp', '08_R.bmp', '09_R.bmp'], '047': ['02_L.bmp', '03_L.bmp', '04_L.bmp', '06_R.bmp', '07_R.bmp', '08_R.bmp', '09_R.bmp'], '048': ['02_L.bmp', '03_L.bmp', '04_L.bmp', '06_R.bmp', '07_R.bmp', '08_R.bmp', '09_R.bmp'], '049': ['02_L.bmp', '03_L.bmp', '04_L.bmp', '06_R.bmp', '07_R.bmp', '08_R.bmp', '09_R.bmp'], '050': ['02_L.bmp', '03_L.bmp', '04_L.bmp', '06_R.bmp', '07_R.bmp', '08_R.bmp', '09_R.bmp'], '051': ['02_L.bmp', '03_L.bmp', '04_L.bmp', '06_R.bmp', '07_R.bmp', '08_R.bmp', '09_R.bmp'], '052': ['02_L.bmp', '03_L.bmp', '04_L.bmp', '06_R.bmp', '07_R.bmp', '08_R.bmp', '09_R.bmp'], '053': ['02_L.bmp', '03_L.bmp', '04_L.bmp', '06_R.bmp', '07_R.bmp', '08_R.bmp', '09_R.bmp'], '054': ['02_L.bmp', '03_L.bmp', '04_L.bmp', '06_R.bmp', '07_R.bmp', '08_R.bmp', '09_R.bmp'], '055': ['02_L.bmp', '03_L.bmp', '04_L.bmp', '06_L.bmp', '07_R.bmp', '08_R.bmp', '09_R.bmp'], '056': ['02_L.bmp', '03_L.bmp', '04_L.bmp', '06_R.bmp', '07_R.bmp', '08_R.bmp', '09_R.bmp'], '057': ['02_L.bmp', '03_L.bmp', '04_L.bmp', '06_R.bmp', '07_R.bmp', '08_R.bmp', '09_R.bmp'], '058': ['02_L.bmp', '03_L.bmp', '04_L.bmp', '06_R.bmp', '07_R.bmp', '08_R.bmp', '09_R.bmp'], '059': ['02_L.bmp', '03_L.bmp', '04_L.bmp', '06_R.bmp', '07_R.bmp', '08_R.bmp', '09_R.bmp'], '060': ['02_L.bmp', '03_L.bmp', '04_L.bmp', '06_R.bmp', '07_R.bmp', '08_R.bmp', '09_R.bmp'], '061': ['02_L.bmp', '03_L.bmp', '04_L.bmp', '06_R.bmp', '07_R.bmp', '08_R.bmp', '09_R.bmp'], '062': ['02_L.bmp', '03_L.bmp', '04_L.bmp', '06_R.bmp', '07_R.bmp', '08_R.bmp', '09_R.bmp'], '063': ['02_L.bmp', '03_L.bmp', '04_L.bmp', '06_R.bmp', '07_R.bmp', '08_R.bmp', '09_R.bmp'], '064': ['02_L.bmp', '03_L.bmp', '04_L.bmp', '06_R.bmp', '07_R.bmp', '08_R.bmp', '09_R.bmp'], '065': ['02_L.bmp', '03_L.bmp', '04_L.bmp', '06_L.bmp', '07_R.bmp', '08_R.bmp', '09_R.bmp'], '066': ['02_L.bmp', '03_L.bmp', '04_L.bmp', '06_R.bmp', '07_R.bmp', '08_R.bmp', '09_R.bmp'], '067': ['02_L.bmp', '03_L.bmp', '04_L.bmp', '06_R.bmp', '07_R.bmp', '08_R.bmp', '09_R.bmp'], '068': ['02_L.bmp', '03_L.bmp', '04_L.bmp', '06_R.bmp', '07_R.bmp', '08_R.bmp', '09_R.bmp'], '069': ['02_L.bmp', '03_L.bmp', '04_L.bmp', '06_R.bmp', '07_R.bmp', '08_R.bmp', '09_R.bmp'], '070': ['02_L.bmp', '03_L.bmp', '04_L.bmp', '06_R.bmp', '07_R.bmp', '08_R.bmp', '09_R.bmp'], '071': ['02_L.bmp', '03_L.bmp', '04_L.bmp', '06_R.bmp', '07_R.bmp', '08_R.bmp', '09_R.bmp'], '072': ['02_L.bmp', '03_L.bmp', '04_L.bmp', '06_R.bmp', '07_R.bmp', '08_R.bmp', '09_R.bmp'], '073': ['02_L.bmp', '03_L.bmp', '04_L.bmp', '06_R.bmp', '07_R.bmp', '08_R.bmp', '09_R.bmp'], '074': ['02_L.bmp', '03_L.bmp', '04_L.bmp', '06_R.bmp', '07_R.bmp', '08_R.bmp', '09_R.bmp'], '075': ['02_L.bmp', '03_L.bmp', '04_L.bmp', '06_R.bmp', '07_R.bmp', '08_R.bmp', '09_R.bmp'], '076': ['02_L.bmp', '03_L.bmp', '04_L.bmp', '06_R.bmp', '07_R.bmp', '08_R.bmp', '09_R.bmp'], '077': ['02_L.bmp', '03_L.bmp', '04_L.bmp', '06_R.bmp', '07_R.bmp', '08_R.bmp', '09_R.bmp'], '078': ['02_L.bmp', '03_L.bmp', '04_L.bmp', '06_R.bmp', '07_R.bmp', '08_R.bmp', '09_R.bmp'], '079': ['02_L.bmp', '03_L.bmp', '04_L.bmp', '06_R.bmp', '07_R.bmp', '08_R.bmp', '09_R.bmp'], '080': ['02_L.bmp', '03_L.bmp', '04_L.bmp', '06_R.bmp', '07_R.bmp', '08_R.bmp', '09_R.bmp'], '081': ['02_L.bmp', '03_L.bmp', '04_L.bmp', '06_R.bmp', '07_R.bmp', '08_R.bmp', '09_R.bmp'], '082': ['02_L.bmp', '03_L.bmp', '04_L.bmp', '06_R.bmp', '07_R.bmp', '08_R.bmp', '09_R.bmp'], '083': ['02_L.bmp', '03_L.bmp', '04_L.bmp', '06_R.bmp', '07_R.bmp', '08_R.bmp', '09_R.bmp'], '084': ['02_L.bmp', '03_L.bmp', '04_L.bmp', '06_R.bmp', '07_R.bmp', '08_R.bmp', '09_R.bmp'], '085': ['02_L.bmp', '03_L.bmp', '04_L.bmp', '06_R.bmp', '07_R.bmp', '08_R.bmp', '09_R.bmp'], '086': ['02_L.bmp', '03_L.bmp', '04_L.bmp', '06_R.bmp', '07_R.bmp', '08_R.bmp', '09_R.bmp'], '087': ['02_L.bmp', '03_L.bmp', '04_L.bmp', '06_R.bmp', '07_R.bmp', '08_R.bmp', '09_R.bmp'], '088': ['02_L.bmp', '03_L.bmp', '04_L.bmp', '06_R.bmp', '07_R.bmp', '08_R.bmp', '09_R.bmp'], '089': ['02_L.bmp', '03_L.bmp', '04_L.bmp', '06_R.bmp', '07_R.bmp', '08_R.bmp', '09_R.bmp'], '090': ['02_L.bmp', '03_L.bmp', '04_L.bmp', '06_R.bmp', '07_R.bmp', '08_R.bmp', '09_R.bmp'], '091': ['02_L.bmp', '03_L.bmp', '04_L.bmp', '06_R.bmp', '07_R.bmp', '08_R.bmp', '09_R.bmp'], '092': ['02_L.bmp', '03_L.bmp', '04_L.bmp', '06_R.bmp', '07_R.bmp', '08_R.bmp', '09_R.bmp'], '093': ['02_L.bmp', '03_L.bmp', '04_L.bmp', '06_R.bmp', '07_R.bmp', '08_R.bmp', '09_R.bmp'], '094': ['02_L.bmp', '03_L.bmp', '04_L.bmp', '06_R.bmp', '07_R.bmp', '08_R.bmp', '09_R.bmp'], '095': ['02_L.bmp', '03_L.bmp', '04_L.bmp', '06_R.bmp', '07_R.bmp', '08_R.bmp', '09_R.bmp'], '096': ['02_L.bmp', '03_L.bmp', '04_L.bmp', '06_R.bmp', '07_R.bmp', '08_R.bmp', '09_R.bmp'], '097': ['02_L.bmp', '03_L.bmp', '04_L.bmp', '06_R.bmp', '07_R.bmp', '08_R.bmp', '09_R.bmp'], '098': ['02_L.bmp', '03_L.bmp', '04_L.bmp', '06_R.bmp', '07_R.bmp', '08_R.bmp', '09_R.bmp'], '099': ['02_L.bmp', '03_L.bmp', '04_L.bmp', '06_R.bmp', '07_R.bmp', '08_R.bmp', '09_R.bmp'], '100': ['02_L.bmp', '03_L.bmp', '04_L.bmp', '06_R.bmp', '07_R.bmp', '08_R.bmp', '09_R.bmp'], '101': ['02_L.bmp', '03_L.bmp', '04_L.bmp', '06_R.bmp', '07_R.bmp', '08_R.bmp', '09_R.bmp'], '102': ['02_L.bmp', '03_L.bmp', '04_L.bmp', '06_R.bmp', '07_R.bmp', '08_R.bmp', '09_R.bmp'], '103': ['02_L.bmp', '03_L.bmp', '04_L.bmp', '06_R.bmp', '07_R.bmp', '08_R.bmp', '09_R.bmp'], '104': ['02_L.bmp', '03_L.bmp', '04_L.bmp', '06_R.bmp', '07_R.bmp', '08_R.bmp', '09_R.bmp'], '105': ['02_L.bmp', '03_L.bmp', '04_L.bmp', '06_R.bmp', '07_R.bmp', '08_R.bmp', '09_R.bmp'], '106': ['02_L.bmp', '03_L.bmp', '04_L.bmp', '06_R.bmp', '07_R.bmp', '08_R.bmp', '09_R.bmp'], '107': ['02_L.bmp', '03_L.bmp', '04_L.bmp', '06_R.bmp', '07_R.bmp', '08_R.bmp', '09_R.bmp'], '108': ['02_L.bmp', '03_L.bmp', '04_L.bmp', '06_R.bmp', '07_R.bmp', '08_R.bmp', '09_R.bmp'], '109': ['02_L.bmp', '03_L.bmp', '04_L.bmp', '06_R.bmp', '07_R.bmp', '08_R.bmp', '09_R.bmp'], '110': ['02_L.bmp', '03_L.bmp', '04_L.bmp', '06_R.bmp', '07_R.bmp', '08_R.bmp', '09_R.bmp'], '111': ['02_L.bmp', '03_L.bmp', '04_L.bmp', '06_R.bmp', '07_R.bmp', '08_R.bmp', '09_R.bmp'], '112': ['02_L.bmp', '03_L.bmp', '04_L.bmp', '06_R.bmp', '07_R.bmp', '08_R.bmp', '09_R.bmp'], '113': ['02_L.bmp', '03_L.bmp', '04_L.bmp', '06_R.bmp', '07_R.bmp', '08_R.bmp', '09_R.bmp'], '114': ['02_L.bmp', '03_L.bmp', '04_L.bmp', '06_R.bmp', '07_R.bmp', '08_R.bmp', '09_R.bmp'], '115': ['02_L.bmp', '03_L.bmp', '04_L.bmp', '06_R.bmp', '07_R.bmp', '08_R.bmp', '09_R.bmp'], '116': ['02_L.bmp', '03_L.bmp', '04_L.bmp', '06_R.bmp', '07_R.bmp', '08_R.bmp', '09_R.bmp'], '117': ['02_L.bmp', '03_L.bmp', '04_L.bmp', '06_R.bmp', '07_R.bmp', '08_R.bmp', '09_R.bmp'], '118': ['02_L.bmp', '03_L.bmp', '04_L.bmp', '06_R.bmp', '07_R.bmp', '08_R.bmp', '09_R.bmp'], '119': ['02_L.bmp', '03_L.bmp', '04_L.bmp', '06_R.bmp', '07_R.bmp', '08_R.bmp', '09_R.bmp'], '120': ['02_L.bmp', '03_L.bmp', '04_L.bmp', '06_R.bmp', '07_R.bmp', '08_R.bmp', '09_R.bmp'], '121': ['02_L.bmp', '03_L.bmp', '04_L.bmp', '06_R.bmp', '07_R.bmp', '08_R.bmp', '09_R.bmp'], '122': ['02_L.bmp', '03_L.bmp', '04_L.bmp', '06_R.bmp', '07_R.bmp', '08_R.bmp', '09_R.bmp'], '123': ['02_L.bmp', '03_L.bmp', '04_L.bmp', '06_R.bmp', '07_R.bmp', '08_R.bmp', '09_R.bmp'], '124': ['02_L.bmp', '03_L.bmp', '04_L.bmp', '06_R.bmp', '07_R.bmp', '08_R.bmp', '09_R.bmp'], '125': ['02_L.bmp', '03_L.bmp', '04_L.bmp', '06_R.bmp', '07_R.bmp', '08_R.bmp', '09_R.bmp'], '126': ['02_L.bmp', '03_L.bmp', '04_L.bmp', '06_R.bmp', '07_R.bmp', '08_R.bmp', '09_R.bmp'], '127': ['02_L.bmp', '03_L.bmp', '04_L.bmp', '06_R.bmp', '07_R.bmp', '08_R.bmp', '09_R.bmp'], '128': ['02_L.bmp', '03_L.bmp', '04_L.bmp', '06_R.bmp', '07_R.bmp', '08_R.bmp', '09_R.bmp'], '129': ['02_L.bmp', '03_L.bmp', '04_L.bmp', '06_R.bmp', '07_R.bmp', '08_R.bmp', '09_R.bmp'], '130': ['02_L.bmp', '03_L.bmp', '04_L.bmp', '06_R.bmp', '07_R.bmp', '08_R.bmp', '09_R.bmp'], '131': ['02_L.bmp', '03_L.bmp', '04_L.bmp', '06_R.bmp', '07_R.bmp', '08_R.bmp', '09_R.bmp'], '132': ['02_L.bmp', '03_L.bmp', '04_L.bmp', '06_R.bmp', '07_R.bmp', '08_R.bmp', '09_R.bmp'], '133': ['02_L.bmp', '03_L.bmp', '04_L.bmp', '06_R.bmp', '07_R.bmp', '08_R.bmp', '09_R.bmp'], '134': ['02_L.bmp', '03_L.bmp', '04_L.bmp', '06_R.bmp', '07_R.bmp', '08_R.bmp', '09_R.bmp'], '135': ['02_L.bmp', '03_L.bmp', '04_L.bmp', '06_R.bmp', '07_R.bmp', '08_R.bmp', '09_R.bmp'], '136': ['02_L.bmp', '03_L.bmp', '04_L.bmp', '06_R.bmp', '07_R.bmp', '08_R.bmp', '09_R.bmp'], '137': ['02_L.bmp', '03_L.bmp', '04_L.bmp', '06_R.bmp', '07_R.bmp', '08_R.bmp', '09_R.bmp'], '138': ['02_L.bmp', '03_L.bmp', '04_L.bmp', '06_R.bmp', '07_R.bmp', '08_R.bmp', '09_R.bmp'], '139': ['02_L.bmp', '03_L.bmp', '04_L.bmp', '06_R.bmp', '07_R.bmp', '08_R.bmp', '09_R.bmp'], '140': ['02_L.bmp', '03_L.bmp', '04_L.bmp', '06_R.bmp', '07_R.bmp', '08_R.bmp', '09_R.bmp'], '141': ['02_L.bmp', '03_L.bmp', '04_L.bmp', '06_R.bmp', '07_R.bmp', '08_R.bmp', '09_R.bmp'], '142': ['02_L.bmp', '03_L.bmp', '04_L.bmp', '06_R.bmp', '07_R.bmp', '08_R.bmp', '09_R.bmp'], '143': ['02_L.bmp', '03_L.bmp', '04_L.bmp', '06_R.bmp', '07_R.bmp', '08_R.bmp', '09_R.bmp'], '144': ['02_L.bmp', '03_L.bmp', '04_L.bmp', '06_R.bmp', '07_R.bmp', '08_R.bmp', '09_R.bmp'], '145': ['02_L.bmp', '03_L.bmp', '04_L.bmp', '06_R.bmp', '07_R.bmp', '08_R.bmp', '09_R.bmp'], '146': ['02_L.bmp', '03_L.bmp', '04_L.bmp', '06_R.bmp', '07_R.bmp', '08_R.bmp', '09_R.bmp'], '147': ['02_L.bmp', '03_L.bmp', '04_L.bmp', '06_R.bmp', '07_R.bmp', '08_R.bmp', '09_R.bmp'], '148': ['02_L.bmp', '03_L.bmp', '04_L.bmp', '06_R.bmp', '07_R.bmp', '08_R.bmp', '09_R.bmp'], '149': ['02_L.bmp', '03_L.bmp', '04_L.bmp', '06_R.bmp', '07_R.bmp', '08_R.bmp', '09_R.bmp'], '150': ['02_L.bmp', '03_L.bmp', '04_L.bmp', '06_R.bmp', '07_R.bmp', '08_R.bmp', '09_R.bmp'], '151': ['02_L.bmp', '03_L.bmp', '04_L.bmp', '06_R.bmp', '07_R.bmp', '08_R.bmp', '09_R.bmp'], '152': ['02_L.bmp', '03_L.bmp', '04_L.bmp', '06_R.bmp', '07_R.bmp', '08_R.bmp', '09_R.bmp'], '153': ['02_L.bmp', '03_L.bmp', '04_L.bmp', '06_R.bmp', '07_R.bmp', '08_R.bmp', '09_R.bmp'], '154': ['02_L.bmp', '03_L.bmp', '04_L.bmp', '06_R.bmp', '07_R.bmp', '08_R.bmp', '09_R.bmp'], '155': ['02_L.bmp', '03_L.bmp', '04_L.bmp', '06_R.bmp', '07_R.bmp', '08_R.bmp', '09_R.bmp'], '156': ['02_L.bmp', '03_L.bmp', '04_L.bmp', '06_R.bmp', '07_R.bmp', '08_R.bmp', '09_R.bmp'], '157': ['02_L.bmp', '03_L.bmp', '04_L.bmp', '06_R.bmp', '07_R.bmp', '08_R.bmp', '09_R.bmp'], '158': ['02_L.bmp', '03_L.bmp', '04_L.bmp', '06_R.bmp', '07_R.bmp', '08_R.bmp', '09_R.bmp'], '159': ['02_L.bmp', '03_L.bmp', '04_L.bmp', '06_R.bmp', '07_R.bmp', '08_R.bmp', '09_R.bmp'], '160': ['02_L.bmp', '03_L.bmp', '04_L.bmp', '06_R.bmp', '07_R.bmp', '08_R.bmp', '09_R.bmp'], '161': ['02_L.bmp', '03_L.bmp', '04_L.bmp', '06_R.bmp', '07_R.bmp', '08_R.bmp', '09_R.bmp'], '162': ['02_L.bmp', '03_L.bmp', '04_L.bmp', '06_R.bmp', '07_R.bmp', '08_R.bmp', '09_R.bmp'], '163': ['02_L.bmp', '03_L.bmp', '04_L.bmp', '06_R.bmp', '07_R.bmp', '08_R.bmp', '09_R.bmp'], '164': ['02_L.bmp', '03_L.bmp', '04_L.bmp', '06_R.bmp', '07_R.bmp', '08_R.bmp', '09_R.bmp'], '165': ['02_L.bmp', '03_L.bmp', '04_L.bmp', '06_R.bmp', '07_R.bmp', '08_R.bmp', '09_R.bmp'], '166': ['02_L.bmp', '03_L.bmp', '04_L.bmp', '06_R.bmp', '07_R.bmp', '08_R.bmp', '09_R.bmp'], '167': ['02_L.bmp', '03_L.bmp', '04_L.bmp', '06_R.bmp', '07_R.bmp', '08_R.bmp', '09_R.bmp'], '168': ['02_L.bmp', '03_L.bmp', '04_L.bmp', '06_R.bmp', '07_R.bmp', '08_R.bmp', '09_R.bmp'], '169': ['02_L.bmp', '03_L.bmp', '04_L.bmp', '06_R.bmp', '07_R.bmp', '08_R.bmp', '09_R.bmp'], '170': ['02_L.bmp', '03_L.bmp', '04_L.bmp', '06_R.bmp', '07_R.bmp', '08_R.bmp', '09_R.bmp'], '171': ['02_L.bmp', '03_L.bmp', '04_L.bmp', '06_R.bmp', '07_R.bmp', '08_R.bmp', '09_R.bmp'], '172': ['02_L.bmp', '03_L.bmp', '04_L.bmp', '06_R.bmp', '07_R.bmp', '08_R.bmp', '09_R.bmp'], '173': ['02_L.bmp', '03_L.bmp', '04_L.bmp', '06_R.bmp', '07_R.bmp', '08_R.bmp', '09_R.bmp'], '174': ['02_L.bmp', '03_L.bmp', '04_L.bmp', '06_R.bmp', '07_R.bmp', '08_R.bmp', '09_R.bmp'], '175': ['02_L.bmp', '03_L.bmp', '04_L.bmp', '06_R.bmp', '07_R.bmp', '08_R.bmp', '09_R.bmp'], '176': ['02_L.bmp', '03_L.bmp', '04_L.bmp', '06_R.bmp', '07_R.bmp', '08_R.bmp', '09_R.bmp'], '177': ['02_L.bmp', '03_L.bmp', '04_L.bmp', '06_R.bmp', '07_R.bmp', '08_R.bmp', '09_R.bmp'], '178': ['02_L.bmp', '03_L.bmp', '04_L.bmp', '06_R.bmp', '07_R.bmp', '08_R.bmp', '09_R.bmp'], '179': ['02_L.bmp', '03_L.bmp', '04_L.bmp', '06_R.bmp', '07_R.bmp', '08_R.bmp', '09_R.bmp'], '180': ['02_L.bmp', '03_L.bmp', '04_L.bmp', '06_R.bmp', '07_R.bmp', '08_R.bmp', '09_R.bmp'], '181': ['02_L.bmp', '03_L.bmp', '04_L.bmp', '06_R.bmp', '07_R.bmp', '08_R.bmp', '09_R.bmp'], '182': ['02_L.bmp', '03_L.bmp', '04_L.bmp', '06_R.bmp', '07_R.bmp', '08_R.bmp', '09_R.bmp'], '183': ['02_L.bmp', '03_L.bmp', '04_L.bmp', '06_R.bmp', '07_R.bmp', '08_R.bmp', '09_R.bmp'], '184': ['02_L.bmp', '03_L.bmp', '04_L.bmp', '06_R.bmp', '07_R.bmp', '08_R.bmp', '09_R.bmp'], '185': ['02_L.bmp', '03_L.bmp', '04_L.bmp', '06_R.bmp', '07_R.bmp', '08_R.bmp', '09_R.bmp'], '186': ['02_L.bmp', '03_L.bmp', '04_L.bmp', '06_R.bmp', '07_R.bmp', '08_R.bmp', '09_R.bmp'], '187': ['02_L.bmp', '03_L.bmp', '04_L.bmp', '06_R.bmp', '07_R.bmp', '08_R.bmp', '09_R.bmp'], '188': ['02_L.bmp', '03_L.bmp', '04_L.bmp', '06_R.bmp', '07_R.bmp', '08_R.bmp', '09_R.bmp'], '189': ['02_L.bmp', '03_L.bmp', '04_L.bmp', '06_R.bmp', '07_R.bmp', '08_R.bmp', '09_R.bmp'], '190': ['02_L.bmp', '03_L.bmp', '04_L.bmp', '06_R.bmp', '07_R.bmp', '08_R.bmp', '09_R.bmp'], '191': ['02_L.bmp', '03_L.bmp', '04_L.bmp', '06_R.bmp', '07_R.bmp', '08_R.bmp', '09_R.bmp'], '192': ['02_L.bmp', '03_L.bmp', '04_L.bmp', '06_R.bmp', '07_R.bmp', '08_R.bmp', '09_R.bmp'], '193': ['02_L.bmp', '03_L.bmp', '04_L.bmp', '06_R.bmp', '07_R.bmp', '08_R.bmp', '09_R.bmp'], '194': ['02_L.bmp', '03_L.bmp', '04_L.bmp', '06_R.bmp', '07_R.bmp', '08_R.bmp', '09_R.bmp'], '195': ['02_L.bmp', '03_L.bmp', '04_L.bmp', '06_R.bmp', '07_R.bmp', '08_R.bmp', '09_R.bmp'], '196': ['02_L.bmp', '03_L.bmp', '04_L.bmp', '06_R.bmp', '07_R.bmp', '08_R.bmp', '09_R.bmp'], '197': ['02_L.bmp', '03_L.bmp', '04_L.bmp', '06_R.bmp', '07_R.bmp', '08_R.bmp', '09_R.bmp'], '198': ['02_L.bmp', '03_L.bmp', '04_L.bmp', '06_R.bmp', '07_R.bmp', '08_R.bmp', '09_R.bmp'], '199': ['02_L.bmp', '03_L.bmp', '04_L.bmp', '06_R.bmp', '07_R.bmp', '08_R.bmp', '09_R.bmp'], '200': ['02_L.bmp', '03_L.bmp', '04_L.bmp', '06_R.bmp', '07_R.bmp', '08_R.bmp', '09_R.bmp'], '201': ['02_L.bmp', '03_L.bmp', '04_L.bmp', '06_R.bmp', '07_R.bmp', '08_R.bmp', '09_R.bmp'], '202': ['02_L.bmp', '03_L.bmp', '04_L.bmp', '06_R.bmp', '07_R.bmp', '08_R.bmp', '09_R.bmp'], '203': ['02_L.bmp', '03_L.bmp', '04_L.bmp', '06_R.bmp', '07_R.bmp', '08_R.bmp', '09_R.bmp'], '204': ['02_L.bmp', '03_L.bmp', '04_L.bmp', '06_R.bmp', '07_R.bmp', '08_R.bmp', '09_R.bmp'], '205': ['02_L.bmp', '03_L.bmp', '04_L.bmp', '06_R.bmp', '07_R.bmp', '08_R.bmp', '09_R.bmp'], '206': ['02_L.bmp', '03_L.bmp', '04_L.bmp', '06_R.bmp', '07_R.bmp', '08_R.bmp', '09_R.bmp'], '207': ['02_L.bmp', '03_L.bmp', '04_L.bmp', '06_R.bmp', '07_R.bmp', '08_R.bmp', '09_R.bmp'], '208': ['02_L.bmp', '03_L.bmp', '04_L.bmp', '06_R.bmp', '07_R.bmp', '08_R.bmp', '09_R.bmp'], '209': ['02_L.bmp', '03_L.bmp', '04_L.bmp', '06_R.bmp', '07_R.bmp', '08_R.bmp', '09_R.bmp'], '210': ['02_L.bmp', '03_L.bmp', '04_L.bmp', '06_R.bmp', '07_R.bmp', '08_R.bmp', '09_R.bmp'], '211': ['02_L.bmp', '03_L.bmp', '04_L.bmp', '06_R.bmp', '07_R.bmp', '08_R.bmp', '09_R.bmp'], '212': ['02_L.bmp', '03_L.bmp', '04_L.bmp', '06_R.bmp', '07_R.bmp', '08_R.bmp', '09_R.bmp'], '213': ['02_L.bmp', '03_L.bmp', '04_L.bmp', '06_R.bmp', '07_R.bmp', '08_R.bmp', '09_R.bmp'], '214': ['02_L.bmp', '03_L.bmp', '04_L.bmp', '06_R.bmp', '07_R.bmp', '08_R.bmp', '09_R.bmp'], '215': ['02_L.bmp', '03_L.bmp', '04_L.bmp', '06_R.bmp', '07_R.bmp', '08_R.bmp', '09_R.bmp'], '216': ['02_L.bmp', '03_L.bmp', '04_L.bmp', '06_R.bmp', '07_R.bmp', '08_R.bmp', '09_R.bmp'], '217': ['02_L.bmp', '03_L.bmp', '04_L.bmp', '06_R.bmp', '07_R.bmp', '08_R.bmp', '09_R.bmp'], '218': ['02_L.bmp', '03_L.bmp', '04_L.bmp', '06_R.bmp', '07_R.bmp', '08_R.bmp', '09_R.bmp'], '219': ['02_L.bmp', '03_L.bmp', '04_L.bmp', '06_R.bmp', '07_R.bmp', '08_R.bmp', '09_R.bmp'], '220': ['02_L.bmp', '03_L.bmp', '04_L.bmp', '06_R.bmp', '07_R.bmp', '08_R.bmp', '09_R.bmp'], '221': ['02_L.bmp', '03_L.bmp', '04_L.bmp', '06_R.bmp', '07_R.bmp', '08_R.bmp', '09_R.bmp'], '222': ['02_L.bmp', '03_L.bmp', '04_L.bmp', '06_R.bmp', '07_R.bmp', '08_R.bmp', '09_R.bmp'], '223': ['02_L.bmp', '03_L.bmp', '04_L.bmp', '06_R.bmp', '07_R.bmp', '08_R.bmp', '09_R.bmp']}\n"
     ]
    }
   ],
   "source": [
    "x_train = []\n",
    "items =  get_items(\"./Dataset/TrainData\")\n",
    "# for item_path in items:\n",
    "#     print(item_path)\n",
    "print(items)"
   ]
  },
  {
   "cell_type": "code",
   "execution_count": 6,
   "id": "c6e4eba3-786b-4e9e-8aa8-2942432d8a2c",
   "metadata": {},
   "outputs": [],
   "source": [
    "def load_data(my_data):\n",
    "    images = []\n",
    "    labels = []\n",
    "\n",
    "    for label, img_list in my_data.items():\n",
    "        for img_path in img_list:\n",
    "            full_path = f\"./Dataset/TrainData/{label}/{img_path}\"  # replace \"your_base_path\" with the actual base path\n",
    "\n",
    "            # Read and preprocess the image\n",
    "            img = process_image(full_path)\n",
    "\n",
    "            # Append the preprocessed image to the dataset\n",
    "            images.append(img)\n",
    "            # Append the corresponding label to the labels list\n",
    "            labels.append(int(label))\n",
    "\n",
    "    # Convert lists to NumPy arrays\n",
    "    images = np.array(images)\n",
    "    labels = np.array(labels)\n",
    "\n",
    "    return images, labels"
   ]
  },
  {
   "cell_type": "code",
   "execution_count": 33,
   "id": "b35270ab-e1f7-4324-a7c7-6a3ff19b5a3b",
   "metadata": {},
   "outputs": [],
   "source": [
    "x_train, y_train = load_data(items)\n",
    "from sklearn.preprocessing import LabelEncoder\n",
    "label_encoder = LabelEncoder()\n",
    "y_train_encoded = label_encoder.fit_transform(y_train)"
   ]
  },
  {
   "cell_type": "code",
   "execution_count": 34,
   "id": "e72edf63-57b1-4ac5-b675-23e08d5ded68",
   "metadata": {},
   "outputs": [],
   "source": [
    "test_items = get_items(\"./Dataset/TrainData\")\n",
    "x_test, y_test = load_data(test_items)\n",
    "test = LabelEncoder()\n",
    "y_test_encoded = label_encoder.fit_transform(y_test)"
   ]
  },
  {
   "cell_type": "code",
   "execution_count": 35,
   "id": "a55cfe71-4515-4f46-b46d-d586d2c20da7",
   "metadata": {},
   "outputs": [
    {
     "name": "stdout",
     "output_type": "stream",
     "text": [
      "[[[  1]]\n",
      "\n",
      " [[  1]]\n",
      "\n",
      " [[  1]]\n",
      "\n",
      " ...\n",
      "\n",
      " [[223]]\n",
      "\n",
      " [[223]]\n",
      "\n",
      " [[223]]]\n"
     ]
    }
   ],
   "source": [
    "y_train = np.reshape(y_train, (1561, 1, 1))\n",
    "y_train.shape\n",
    "print(y_train)"
   ]
  },
  {
   "cell_type": "code",
   "execution_count": 36,
   "id": "6f42e1bf-69a6-4ece-b99e-3f84375f473f",
   "metadata": {},
   "outputs": [],
   "source": [
    "model = models.Sequential([\n",
    "    layers.Conv2D(128, (3, 3), activation='relu', input_shape=(100, 100, 1)),\n",
    "    layers.MaxPooling2D((2, 2)),\n",
    "    layers.Conv2D(64, (3, 3), activation='relu'),\n",
    "    layers.Flatten(),\n",
    "    layers.Dense(32, activation='relu'),\n",
    "    layers.Dense(223, activation='softmax')  # Update this to the correct number of classes\n",
    "])\n",
    "\n",
    "model.compile(optimizer='adam',\n",
    "              loss='sparse_categorical_crossentropy',  # Update the loss function\n",
    "              metrics=['accuracy'])\n"
   ]
  },
  {
   "cell_type": "code",
   "execution_count": 37,
   "id": "861d88b4-fa92-4601-924a-42ee11844f5d",
   "metadata": {},
   "outputs": [
    {
     "name": "stdout",
     "output_type": "stream",
     "text": [
      "Epoch 1/20\n",
      "49/49 [==============================] - 28s 562ms/step - loss: 6.0513 - accuracy: 0.0058 - val_loss: 5.3582 - val_accuracy: 0.0205\n",
      "Epoch 2/20\n",
      "49/49 [==============================] - 27s 557ms/step - loss: 5.1795 - accuracy: 0.0301 - val_loss: 3.8444 - val_accuracy: 0.2441\n",
      "Epoch 3/20\n",
      "49/49 [==============================] - 28s 571ms/step - loss: 3.1128 - accuracy: 0.3158 - val_loss: 1.2874 - val_accuracy: 0.7245\n",
      "Epoch 4/20\n",
      "49/49 [==============================] - 24s 498ms/step - loss: 1.0520 - accuracy: 0.7380 - val_loss: 0.3721 - val_accuracy: 0.9180\n",
      "Epoch 5/20\n",
      "49/49 [==============================] - 29s 598ms/step - loss: 0.3589 - accuracy: 0.9065 - val_loss: 0.1395 - val_accuracy: 0.9705\n",
      "Epoch 6/20\n",
      "49/49 [==============================] - 29s 599ms/step - loss: 0.1520 - accuracy: 0.9635 - val_loss: 0.0638 - val_accuracy: 0.9865\n",
      "Epoch 7/20\n",
      "49/49 [==============================] - 32s 647ms/step - loss: 0.0675 - accuracy: 0.9827 - val_loss: 0.0244 - val_accuracy: 0.9942\n",
      "Epoch 8/20\n",
      "49/49 [==============================] - 30s 625ms/step - loss: 0.0248 - accuracy: 0.9936 - val_loss: 0.0153 - val_accuracy: 0.9955\n",
      "Epoch 9/20\n",
      "49/49 [==============================] - 29s 586ms/step - loss: 0.0172 - accuracy: 0.9942 - val_loss: 0.0172 - val_accuracy: 0.9968\n",
      "Epoch 10/20\n",
      "49/49 [==============================] - 32s 659ms/step - loss: 0.0212 - accuracy: 0.9968 - val_loss: 0.0074 - val_accuracy: 0.9987\n",
      "Epoch 11/20\n",
      "49/49 [==============================] - 38s 790ms/step - loss: 0.0059 - accuracy: 0.9987 - val_loss: 0.0030 - val_accuracy: 0.9994\n",
      "Epoch 12/20\n",
      "49/49 [==============================] - 37s 758ms/step - loss: 0.0027 - accuracy: 0.9994 - val_loss: 0.0022 - val_accuracy: 0.9994\n",
      "Epoch 13/20\n",
      "49/49 [==============================] - 32s 657ms/step - loss: 0.0021 - accuracy: 0.9994 - val_loss: 0.0018 - val_accuracy: 0.9994\n",
      "Epoch 14/20\n",
      "49/49 [==============================] - 27s 550ms/step - loss: 0.0018 - accuracy: 0.9994 - val_loss: 0.0016 - val_accuracy: 0.9994\n",
      "Epoch 15/20\n",
      "49/49 [==============================] - 26s 524ms/step - loss: 0.0015 - accuracy: 0.9994 - val_loss: 0.0010 - val_accuracy: 1.0000\n",
      "Epoch 16/20\n",
      "49/49 [==============================] - 26s 530ms/step - loss: 8.8536e-04 - accuracy: 1.0000 - val_loss: 4.1967e-04 - val_accuracy: 1.0000\n",
      "Epoch 17/20\n",
      "49/49 [==============================] - 29s 590ms/step - loss: 4.1497e-04 - accuracy: 1.0000 - val_loss: 2.5797e-04 - val_accuracy: 1.0000\n",
      "Epoch 18/20\n",
      "49/49 [==============================] - 28s 579ms/step - loss: 2.5535e-04 - accuracy: 1.0000 - val_loss: 2.0010e-04 - val_accuracy: 1.0000\n",
      "Epoch 19/20\n",
      "49/49 [==============================] - 26s 533ms/step - loss: 1.9091e-04 - accuracy: 1.0000 - val_loss: 1.6319e-04 - val_accuracy: 1.0000\n",
      "Epoch 20/20\n",
      "49/49 [==============================] - 27s 551ms/step - loss: 1.5707e-04 - accuracy: 1.0000 - val_loss: 1.4109e-04 - val_accuracy: 1.0000\n"
     ]
    },
    {
     "data": {
      "text/plain": [
       "<keras.callbacks.History at 0x2081bbc4490>"
      ]
     },
     "execution_count": 37,
     "metadata": {},
     "output_type": "execute_result"
    }
   ],
   "source": [
    "model.fit(x_train, y_train_encoded, epochs=20, validation_data=(x_test, y_test_encoded))"
   ]
  },
  {
   "cell_type": "code",
   "execution_count": 38,
   "id": "6e8aa3fd",
   "metadata": {},
   "outputs": [],
   "source": [
    "\n",
    "model.save(\"content/PR/model.h5\")"
   ]
  },
  {
   "cell_type": "code",
   "execution_count": 43,
   "id": "a7aae76c",
   "metadata": {},
   "outputs": [],
   "source": [
    "from tensorflow.keras.models import save_model, load_model\n"
   ]
  },
  {
   "cell_type": "code",
   "execution_count": 45,
   "id": "2cba4036",
   "metadata": {},
   "outputs": [
    {
     "name": "stdout",
     "output_type": "stream",
     "text": [
      "49/49 [==============================] - 6s 129ms/step\n"
     ]
    }
   ],
   "source": [
    "loaded_model = load_model(\"content/PR/model.h5\")\n",
    "y_predict = loaded_model.predict(x_test)\n"
   ]
  }
 ],
 "metadata": {
  "kernelspec": {
   "display_name": "Python 3 (ipykernel)",
   "language": "python",
   "name": "python3"
  },
  "language_info": {
   "codemirror_mode": {
    "name": "ipython",
    "version": 3
   },
   "file_extension": ".py",
   "mimetype": "text/x-python",
   "name": "python",
   "nbconvert_exporter": "python",
   "pygments_lexer": "ipython3",
   "version": "3.10.13"
  }
 },
 "nbformat": 4,
 "nbformat_minor": 5
}
